{
 "cells": [
  {
   "cell_type": "code",
   "execution_count": 5,
   "metadata": {},
   "outputs": [],
   "source": [
    "import os\n",
    "import numpy as np\n",
    "import pandas as pd\n",
    "import warnings\n",
    "import matplotlib.pyplot as plt\n",
    "import seaborn as sns\n",
    "import re\n",
    "from sklearn.preprocessing import OneHotEncoder\n",
    "from sklearn.decomposition import PCA\n",
    "import torch\n",
    "from sklearn.experimental import enable_iterative_imputer\n",
    "from sklearn.impute import IterativeImputer\n",
    "from sklearn.preprocessing import StandardScaler\n",
    "from sklearn.linear_model import BayesianRidge\n",
    "\n",
    "warnings.filterwarnings('ignore')\n",
    "\n",
    "import pandas as pd\n"
   ]
  },
  {
   "cell_type": "code",
   "execution_count": 9,
   "metadata": {},
   "outputs": [],
   "source": [
    "file_path = r'C:\\Users\\user\\Documents\\RCC_Project\\kidneytumor_project\\Preprocessing\\output\\cleaned_output.csv'\n",
    "\n",
    "df = pd.read_csv(file_path)\n",
    "\n",
    "numeric_cols = df.select_dtypes(include=['float64', 'int64']).columns.tolist()\n",
    "categorical_cols = df.select_dtypes(include=['object']).columns.tolist()\n"
   ]
  },
  {
   "cell_type": "code",
   "execution_count": 12,
   "metadata": {},
   "outputs": [
    {
     "name": "stdout",
     "output_type": "stream",
     "text": [
      "Original Feature Count: 621\n",
      "Reduced Feature Count after PCA: 59\n",
      "Tensor Shape for Training: torch.Size([777, 59])\n"
     ]
    }
   ],
   "source": [
    "import pandas as pd\n",
    "import numpy as np\n",
    "from sklearn.preprocessing import OneHotEncoder\n",
    "from sklearn.decomposition import PCA\n",
    "import torch\n",
    "\n",
    "# ------------------- STEP 1: Auto One-Hot Encoding -------------------\n",
    "\n",
    "# Initialize OneHotEncoder\n",
    "encoder = OneHotEncoder(sparse_output=False, dtype=int)\n",
    "\n",
    "# Encode categorical columns\n",
    "encoded_array = encoder.fit_transform(df[categorical_cols])\n",
    "\n",
    "# Get encoded feature names\n",
    "encoded_df = pd.DataFrame(encoded_array, columns=encoder.get_feature_names_out(categorical_cols))\n",
    "\n",
    "# Concatenate numeric and encoded categorical data\n",
    "final_df = pd.concat([df[numeric_cols].reset_index(drop=True), encoded_df.reset_index(drop=True)], axis=1)\n",
    "\n",
    "# ------------------- STEP 2: Convert to PyTorch Tensor -------------------\n",
    "\n",
    "# Convert final DataFrame to torch tensor\n",
    "tensor_data = torch.tensor(final_df.values, dtype=torch.float32)\n",
    "\n",
    "# ------------------- STEP 3: Apply PCA for Dimensionality Reduction -------------------\n",
    "\n",
    "# Define PCA for desired number of components (e.g., 95% variance)\n",
    "pca = PCA(n_components=0.95)\n",
    "pca_result = pca.fit_transform(final_df)\n",
    "\n",
    "# Convert reduced data to tensor\n",
    "pca_tensor_data = torch.tensor(pca_result, dtype=torch.float32)\n",
    "\n",
    "# ------------------- STEP 4: Summary -------------------\n",
    "\n",
    "print(f\"Original Feature Count: {final_df.shape[1]}\")\n",
    "print(f\"Reduced Feature Count after PCA: {pca_tensor_data.shape[1]}\")\n",
    "print(f\"Tensor Shape for Training: {pca_tensor_data.shape}\")"
   ]
  }
 ],
 "metadata": {
  "kernelspec": {
   "display_name": "sklearn-env",
   "language": "python",
   "name": "python3"
  },
  "language_info": {
   "codemirror_mode": {
    "name": "ipython",
    "version": 3
   },
   "file_extension": ".py",
   "mimetype": "text/x-python",
   "name": "python",
   "nbconvert_exporter": "python",
   "pygments_lexer": "ipython3",
   "version": "3.13.2"
  }
 },
 "nbformat": 4,
 "nbformat_minor": 2
}
