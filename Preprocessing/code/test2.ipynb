{
 "cells": [
  {
   "cell_type": "code",
   "execution_count": 1,
   "metadata": {},
   "outputs": [],
   "source": [
    "import os\n",
    "import numpy as np\n",
    "import pandas as pd\n",
    "from matplotlib import pyplot as plt\n",
    "import seaborn as sns\n",
    "from sklearn.experimental import enable_iterative_imputer  # scikit-learn MICE\n",
    "from sklearn.impute import IterativeImputer  # MICE 算法\n",
    "from sklearn.decomposition import PCA\n",
    "import warnings\n",
    "warnings.filterwarnings('ignore')"
   ]
  },
  {
   "cell_type": "code",
   "execution_count": 2,
   "metadata": {},
   "outputs": [],
   "source": [
    "files = [\n",
    "    \"C:/Users/Bohan/Desktop/work/SJTU/code/AML_output_3.0.xlsx\",\n",
    "    \"C:/Users/Bohan/Desktop/work/SJTU/code/ccRCC_output_3.0.xlsx\",\n",
    "    \"C:/Users/Bohan/Desktop/work/SJTU/code/chRCC_output_3.0.xlsx\",\n",
    "    \"C:/Users/Bohan/Desktop/work/SJTU/code/pRCC_output_3.0.xlsx\",\n",
    "    \"C:/Users/Bohan/Desktop/work/SJTU/code/RO_output_3.0.xlsx\"\n",
    "]"
   ]
  },
  {
   "cell_type": "code",
   "execution_count": 3,
   "metadata": {},
   "outputs": [],
   "source": [
    "dataframes = [pd.read_excel(file) for file in files]"
   ]
  },
  {
   "cell_type": "code",
   "execution_count": 4,
   "metadata": {},
   "outputs": [],
   "source": [
    "synonym_dict = {\n",
    "    '丙肝抗体(C)': '丙肝抗体',\n",
    "    '乙肝E抗体': '乙肝e抗体(YP)',\n",
    "    '乙肝E抗原': '乙肝e抗原(YP)',\n",
    "    '乙肝核心抗体': '乙肝核心抗体(YP)',\n",
    "    '乙肝表面抗体': '乙肝表面抗体(YP)',\n",
    "    '乙肝表面抗原': '乙肝表面抗原(YP)',\n",
    "    '梅毒螺旋体抗体': '梅毒确诊试验',\n",
    "    '梅毒甲苯胺红不加热血清试验(TRUST)': '梅毒确诊试验',\n",
    "    'Th淋巴细胞(CD3+CD4+)': 'Th淋巴细胞CD4',\n",
    "    'Th淋巴细胞（CD3+CD4+）': 'Th淋巴细胞CD4',\n",
    "    'Ts淋巴细胞  CD8': 'Ts淋巴细胞CD8',\n",
    "    'Ts淋巴细胞(CD3+CD8+)': 'Ts淋巴细胞CD8',\n",
    "    'CD8+CD38+': 'Ts淋巴细胞CD8',\n",
    "    'T淋巴细胞（CD3+）': 'T淋巴细胞(CD3+)',\n",
    "    'T淋巴细胞CD3': 'T淋巴细胞(CD3+)',\n",
    "    'B淋巴细胞（CD3-CD19+）': 'B淋巴细胞(CD3-CD19+)',\n",
    "    'B淋巴细胞CD19': 'B淋巴细胞(CD3-CD19+)',\n",
    "    '淋巴细胞绝对值（CD45+）': '淋巴细胞绝对值',\n",
    "    '淋巴细胞绝对值（CD45）': '淋巴细胞绝对值',\n",
    "    '自然杀伤细胞(CD3-CD16+CD56+)': '自然杀伤细胞CD56+CD16',\n",
    "    'CD3+HLA-DR+': 'CD3+HLA-DR+/CD3+(%)',\n",
    "    'CD8+HLA-DR+': 'CD8+HLA-DR+/CD8+(%)',\n",
    "    'INF-r': 'γ干扰素',\n",
    "    'IFN-γ': 'γ干扰素',\n",
    "    'IFN-α': 'α干扰素',\n",
    "    'IL-6': '白细胞介素-6',\n",
    "    '白介素-6(IL-6)': '白细胞介素-6',\n",
    "    'IL-12P70': '白细胞介素-12p70',\n",
    "    'IL-1β': '白细胞介素-1β',\n",
    "    'IL-5': '白细胞介素-5',\n",
    "    'IL-8': '白细胞介素-8',\n",
    "    '细胞角蛋白19片段(CYFRA21-1)': 'CYFRA(21-1)',\n",
    "    '神经元特异性烯醇化酶(NSE)': '神经烯醇化酶(NSE)',\n",
    "    '糖类抗原(CA72-4)': '糖类抗原(CA724)',\n",
    "    '糖类抗原(CA242)': '糖类抗原242',\n",
    "    '糖类抗原(CA50)': '糖类抗原CA50',\n",
    "    '鳞癌抗原(SCC)': '鳞癌抗原',\n",
    "    'C反应蛋白': 'C-反应蛋白',\n",
    "    '肌酸激酶同工酶(质量法)': '肌酸激酶同工酶',\n",
    "    '肌酸激酶': '肌酸激酶(CK)',\n",
    "    '尿糖': '尿葡萄糖',\n",
    "    '尿蛋白': '尿蛋白质',\n",
    "    '真菌': '酵母菌',\n",
    "    '小圆上皮细胞数': '小圆上皮细胞',\n",
    "    '尿沉渣上皮细胞': '尿上皮细胞计数',\n",
    "    '尿沉渣白细胞': '尿沉渣白细胞计数',\n",
    "    '尿沉渣红细胞': '尿沉渣红细胞计数',\n",
    "    '病理管型': '病理性管型',\n",
    "    '上皮细胞': '镜检上皮细胞',\n",
    "    '白细胞': '镜检白细胞',\n",
    "    '管型': '镜检管型',\n",
    "    '颗粒管型': '镜检管型',\n",
    "    '红细胞': '镜检红细胞',\n",
    "    '谷氨酰转肽酶(GGT)': 'γ谷氨酰基转移酶(GGT)',\n",
    "    'γ谷氨酰基转移酶': 'γ谷氨酰基转移酶(GGT)',\n",
    "    '丙氨酸氨基转移酶': '丙氨酸氨基转移酶(ALT)',\n",
    "    '总胆红素': '总胆红素(TBIL)',\n",
    "    '总蛋白': '总蛋白(TP)',\n",
    "    '白球比例': '白球比例(A:G)',\n",
    "    '白蛋白': '白蛋白(ALB)',\n",
    "    '碱性磷酸酶': '碱性磷酸酶(ALP)',\n",
    "    '尿素': '尿素(UREA)',\n",
    "    '尿酸': '尿酸(URIC)',\n",
    "    '肌酐': '肌酐(CREA)',\n",
    "    '血肌酐': '肌酐(CREA)',\n",
    "    'eGFR-EPIcysc': '胱抑素C(CysC)',\n",
    "    '尿白蛋白肌酐比': 'ACR比值',\n",
    "    '尿素氮': '尿素氮(BUN)',\n",
    "    '血氯': '氯(CL)',\n",
    "    '氯（全血）': '氯(CL)',\n",
    "    '氯(全血)': '氯(CL)',\n",
    "    '钙(全血)': '钙(CA)',\n",
    "    '血钠': '钠(Na)',\n",
    "    '钠（全血）': '钠(Na)',\n",
    "    '钠(全血)': '钠(Na)',\n",
    "    '钠(NA)': '钠(Na)',\n",
    "    '血钾': '钾(K)',\n",
    "    '钾（全血）': '钾(K)',\n",
    "    '钾(全血)': '钾(K)',\n",
    "    '镁(MG)': '镁(Mg)',\n",
    "    '葡萄糖': '空腹血糖(GLU)',\n",
    "    '葡萄糖(GLU)': '空腹血糖(GLU)',\n",
    "    '糖(全血)': '空腹血糖(GLU)',\n",
    "    '标准碳酸氢氢根浓度': '标准碳酸氢根浓度',\n",
    "    '小而密低密度脂蛋白胆固醇': '小而密低密度脂蛋白(sd-LDL)',\n",
    "    '甘油三酯(TG)': '甘油三脂(TG)',\n",
    "    '载脂蛋白A1(APOA1)': '载脂蛋白A1(APOA)',\n",
    "    '血小板最大聚集率': '血小板最大聚集率(AA)',\n",
    "    '血小板粘附率': '血小板粘附率(AA)',\n",
    "    '异常红细胞形态检测': '异常红细胞形态检测(AA)',\n",
    "    '异常血小板形态检测': '异常血小板形态检测(AA)',\n",
    "    '血小板计数初始值': '血小板计数初始值(AA)',\n",
    "    '红细胞平均体积初始': '红细胞计数初始值(AA)',\n",
    "    '红细胞计数初始值': '红细胞计数初始值(ADP)',\n",
    "}"
   ]
  },
  {
   "cell_type": "code",
   "execution_count": 5,
   "metadata": {},
   "outputs": [],
   "source": [
    "# 将同义词字典应用到每个 DataFrame\n",
    "standardized_dfs = [df.rename(columns=synonym_dict) for df in dataframes]"
   ]
  },
  {
   "cell_type": "code",
   "execution_count": 6,
   "metadata": {},
   "outputs": [],
   "source": [
    "# 删除重复的列，保留第一个出现的\n",
    "for i, df in enumerate(standardized_dfs):\n",
    "    df = df.loc[:, ~df.columns.duplicated()]\n",
    "    standardized_dfs[i] = df\n",
    "\n",
    "# 获取所有文件的公共列\n",
    "common_columns = set(standardized_dfs[0].columns)\n",
    "for df in standardized_dfs[1:]:\n",
    "    common_columns = common_columns.intersection(set(df.columns))\n",
    "\n",
    "# 只保留公共列\n",
    "filtered_dataframes = [df.loc[:, list(common_columns)].copy() for df in standardized_dfs]\n"
   ]
  },
  {
   "cell_type": "code",
   "execution_count": 7,
   "metadata": {},
   "outputs": [],
   "source": [
    "# 为每个文件添加 Outcome 列\n",
    "outcome_mapping = {\n",
    "    0: 3,  # AML_output_3.0.xlsx -> 3\n",
    "    1: 1,  # ccRCC_output_3.0.xlsx -> 1\n",
    "    2: 2,  # chRCC_output_3.0.xlsx -> 2\n",
    "    3: 2,  # pRCC_output_3.0.xlsx -> 2\n",
    "    4: 3,  # RO_output_3.0.xlsx -> 3\n",
    "}\n",
    "\n",
    "for i, df in enumerate(filtered_dataframes):\n",
    "    df['Outcome'] = outcome_mapping[i]"
   ]
  },
  {
   "cell_type": "code",
   "execution_count": 8,
   "metadata": {},
   "outputs": [],
   "source": [
    "# 合并 DataFrame\n",
    "merged_df = pd.concat(filtered_dataframes, axis=0, join='inner', ignore_index=True)"
   ]
  },
  {
   "cell_type": "code",
   "execution_count": 9,
   "metadata": {},
   "outputs": [],
   "source": [
    "# 处理缺失值\n",
    "threshold = 0.5\n",
    "filtered_df = merged_df.loc[:, merged_df.isnull().mean() <= threshold]"
   ]
  },
  {
   "cell_type": "code",
   "execution_count": 11,
   "metadata": {},
   "outputs": [
    {
     "name": "stdout",
     "output_type": "stream",
     "text": [
      "Merged DataFrame info:\n",
      "<class 'pandas.core.frame.DataFrame'>\n",
      "RangeIndex: 777 entries, 0 to 776\n",
      "Columns: 143 entries, 尿沉渣白细胞计数 to Outcome\n",
      "dtypes: float64(20), int64(1), object(122)\n",
      "memory usage: 868.2+ KB\n",
      "None\n",
      "  尿沉渣白细胞计数 尿浑浊度  T淋巴细胞绝对值 血小板分布宽度 单核细胞绝对值  血小板计数 ABO血型 血小板比积  25-羟基维生素D(VITD)  \\\n",
      "0      NaN   清亮    1091.4    12.0    0.33  221.0     B   2.3            25.83   \n",
      "1      NaN   清亮     889.5    12.0    0.33  283.0     B   2.9            13.81   \n",
      "2      NaN   清亮     709.0     NaN    0.33  256.0     B   NaN            23.16   \n",
      "3      NaN   清亮     961.8    20.3    0.79  113.0     B   1.6            32.94   \n",
      "4      NaN   清亮     848.6    11.4    0.52  516.0     A   5.1            29.23   \n",
      "\n",
      "   钠(Na)  ... 类酵母细胞数量 Rh(D)血型 自然杀伤细胞CD56+CD16 乙肝e抗原(YP) 甘胆酸(CG) 尿B2-微球蛋白  \\\n",
      "0  139.8  ...     NaN      阳性            21.2      0.08    2.02     0.38   \n",
      "1  138.3  ...     NaN      阳性            21.9      0.09    2.39    <0.19   \n",
      "2  142.4  ...     NaN      阳性            18.3      0.08    0.72    <0.19   \n",
      "3  140.2  ...     NaN      阳性            19.4      0.12     3.3    <0.18   \n",
      "4  137.7  ...     NaN      阳性            10.8      0.08    1.94    <0.19   \n",
      "\n",
      "          尿微量白蛋白 糖类抗原(CA125) 尿葡萄糖 Outcome  \n",
      "0      67 , 19.7       10.40  neg       3  \n",
      "1      20.6 , 23       12.60  neg       3  \n",
      "2  <10.80 , 22.9       13.90  neg       3  \n",
      "3   <11.10 , 7.1        8.29   4+       3  \n",
      "4  <10.80 , 11.7       37.60  neg       3  \n",
      "\n",
      "[5 rows x 143 columns]\n"
     ]
    }
   ],
   "source": [
    "print(\"Merged DataFrame info:\")\n",
    "print(filtered_df.info())\n",
    "print(filtered_df.head())"
   ]
  }
 ],
 "metadata": {
  "kernelspec": {
   "display_name": "pre",
   "language": "python",
   "name": "python3"
  },
  "language_info": {
   "codemirror_mode": {
    "name": "ipython",
    "version": 3
   },
   "file_extension": ".py",
   "mimetype": "text/x-python",
   "name": "python",
   "nbconvert_exporter": "python",
   "pygments_lexer": "ipython3",
   "version": "3.8.19"
  }
 },
 "nbformat": 4,
 "nbformat_minor": 2
}
